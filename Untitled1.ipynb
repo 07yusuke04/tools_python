{
 "cells": [
  {
   "cell_type": "code",
   "execution_count": 19,
   "metadata": {},
   "outputs": [],
   "source": [
    "from tkinter import *"
   ]
  },
  {
   "cell_type": "code",
   "execution_count": 20,
   "id": "fdd2cd1f",
   "metadata": {},
   "outputs": [],
   "source": [
    "from tkinter import ttk"
   ]
  },
  {
   "cell_type": "code",
   "execution_count": 21,
   "id": "ab1e4e36",
   "metadata": {},
   "outputs": [],
   "source": [
    "root = Tk()"
   ]
  },
  {
   "cell_type": "code",
   "execution_count": 22,
   "id": "1cd7c3d9",
   "metadata": {},
   "outputs": [
    {
     "data": {
      "text/plain": [
       "''"
      ]
     },
     "execution_count": 22,
     "metadata": {},
     "output_type": "execute_result"
    }
   ],
   "source": [
    "root.title(\"解答書トリミング専用ツール\")"
   ]
  },
  {
   "cell_type": "code",
   "execution_count": 23,
   "id": "d284b9a9",
   "metadata": {},
   "outputs": [],
   "source": [
    "#オブジェクトの定義\n",
    "label = ttk.Label(root,text ='Hello Python!')"
   ]
  },
  {
   "cell_type": "code",
   "execution_count": 24,
   "id": "8fb7e95d",
   "metadata": {},
   "outputs": [],
   "source": [
    "entry = ttk.Entry(root)"
   ]
  },
  {
   "cell_type": "code",
   "execution_count": 25,
   "id": "89a9a2f8",
   "metadata": {},
   "outputs": [],
   "source": [
    "root.mainloop()"
   ]
  }
 ],
 "metadata": {
  "kernelspec": {
   "display_name": "Python 3",
   "language": "python",
   "name": "python3"
  },
  "language_info": {
   "codemirror_mode": {
    "name": "ipython",
    "version": 3
   },
   "file_extension": ".py",
   "mimetype": "text/x-python",
   "name": "python",
   "nbconvert_exporter": "python",
   "pygments_lexer": "ipython3",
   "version": "3.7.9"
  }
 },
 "nbformat": 4,
 "nbformat_minor": 5
}
